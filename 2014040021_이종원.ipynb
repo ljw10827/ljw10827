{
 "cells": [
  {
   "cell_type": "code",
   "execution_count": 2,
   "metadata": {},
   "outputs": [
    {
     "name": "stdout",
     "output_type": "stream",
     "text": [
      "             매출액    영업이익   당기순이익\n",
      "날짜                              \n",
      "2016.12  2018667  292407  227261\n",
      "2017.12  2395754  536450  421867\n",
      "2018.12  2437714  588867  443449\n",
      "2019.12  2314591  271918  219629\n"
     ]
    },
    {
     "data": {
      "text/plain": [
       "<matplotlib.axes._subplots.AxesSubplot at 0x26214460710>"
      ]
     },
     "execution_count": 2,
     "metadata": {},
     "output_type": "execute_result"
    },
    {
     "data": {
      "image/png": "[encoded data removed]",
      "text/plain": [
       "<Figure size 432x288 with 1 Axes>"
      ]
     },
     "metadata": {
      "needs_background": "light"
     },
     "output_type": "display_data"
    }
   ],
   "source": [
    "import requests\n",
    "from matplotlib import font_manager, rc\n",
    "from bs4 import BeautifulSoup\n",
    "import pandas as pd\n",
    "import numpy as np\n",
    "import matplotlib.pyplot as plt\n",
    "\n",
    "URL = \"https://finance.naver.com/item/main.nhn?code=005930\"\n",
    "\n",
    "samsung = requests.get(URL)\n",
    "html = samsung.text\n",
    "\n",
    "soup = BeautifulSoup(html, 'html.parser')\n",
    "\n",
    "financeHtml = soup.select('div.section.cop_analysis div.sub_section')[0]\n",
    "\n",
    "th_data = [item.get_text().strip() for item in financeHtml.select('thead th')]\n",
    "annualDate = th_data[3:7]\n",
    "quarterDate = th_data[7:13]\n",
    "\n",
    "financeIndex = [item.get_text().strip() for item in financeHtml.select('th.h_th2')][3:]\n",
    "financeIndex = financeIndex[0 : 3]\n",
    "financeData = [item.get_text().strip() for item in financeHtml.select('td')]\n",
    "financeData = financeData[0: 30]\n",
    "\n",
    "dataSet = []\n",
    "\n",
    "for i in range(len(financeData)) :\n",
    "    financeData[i] = financeData[i].replace(\",\", \"\")\n",
    "\n",
    "for i in range(4) :\n",
    "    dataSet.append(financeData[i])\n",
    "    dataSet.append(financeData[i + 10])\n",
    "    dataSet.append(financeData[i + 20])\n",
    "\n",
    "\n",
    "\n",
    "financeDate = annualDate + quarterDate\n",
    "\n",
    "nTemp = 3\n",
    "\n",
    "for i in range(4) :\n",
    "    dataSet.insert(nTemp, financeDate[i].replace(\"(\",\"\").replace(\")\", \"\").replace(\"E\",\"\"))    \n",
    "    nTemp += 4\n",
    "\n",
    "financeIndex.append(\"날짜\")\n",
    "\n",
    "\n",
    "dataSet = np.array(dataSet)\n",
    "dataSet.resize(4, len(financeIndex))\n",
    "\n",
    "\n",
    "finance = pd.DataFrame(data=dataSet[0:,0:] , columns=financeIndex)\n",
    "annualFinance = finance.iloc[:, :4]\n",
    "quarterFinance = finance.iloc[:, 4:]\n",
    "\n",
    "finance = finance.apply(pd.to_numeric, errors = 'coerce')\n",
    "matrix = finance.groupby(\"날짜\")[['매출액' ,'영업이익', '당기순이익']].mean()\n",
    "fontName = font_manager.FontProperties(fname=\"c:/Windows/Fonts/malgun.ttf\").get_name()\n",
    "rc('font', family=fontName)\n",
    "print(matrix)\n",
    "matrix.plot.bar()"
   ]
  },
  {
   "cell_type": "code",
   "execution_count": null,
   "metadata": {},
   "outputs": [],
   "source": []
  },
  {
   "cell_type": "code",
   "execution_count": null,
   "metadata": {},
   "outputs": [],
   "source": []
  }
 ],
 "metadata": {
  "kernelspec": {
   "display_name": "Python 3",
   "language": "python",
   "name": "python3"
  },
  "language_info": {
   "codemirror_mode": {
    "name": "ipython",
    "version": 3
   },
   "file_extension": ".py",
   "mimetype": "text/x-python",
   "name": "python",
   "nbconvert_exporter": "python",
   "pygments_lexer": "ipython3",
   "version": "3.7.3"
  }
 },
 "nbformat": 4,
 "nbformat_minor": 2
}
